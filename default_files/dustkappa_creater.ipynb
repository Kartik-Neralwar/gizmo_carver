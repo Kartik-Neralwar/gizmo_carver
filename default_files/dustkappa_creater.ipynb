{
 "cells": [
  {
   "cell_type": "markdown",
   "id": "2f166c3f-d580-46f5-8b69-b01c9af91ebb",
   "metadata": {},
   "source": [
    "We take the dust model from https://www.astro.princeton.edu/~draine/dust/dustmix.html with "
   ]
  }
 ],
 "metadata": {
  "kernelspec": {
   "display_name": "Python 3 (ipykernel)",
   "language": "python",
   "name": "python3"
  },
  "language_info": {
   "codemirror_mode": {
    "name": "ipython",
    "version": 3
   },
   "file_extension": ".py",
   "mimetype": "text/x-python",
   "name": "python",
   "nbconvert_exporter": "python",
   "pygments_lexer": "ipython3",
   "version": "3.9.7"
  }
 },
 "nbformat": 4,
 "nbformat_minor": 5
}
